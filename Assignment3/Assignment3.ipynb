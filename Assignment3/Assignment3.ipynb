{
 "cells": [
  {
   "cell_type": "markdown",
   "source": [
    "### Descriptive Statistics - Measures of Central Tendency and variability\n",
    "### Perform the following operations on any open source dataset (e.g., data.csv)\n",
    "1. Provide summary statistics (mean, median, minimum, maximum, standard deviation) for\n",
    "a dataset (age, income etc.) with numeric variables grouped by one of the qualitative\n",
    "(categorical) variable. For example, if your categorical variable is age groups and\n",
    "quantitative variable is income, then provide summary statistics of income grouped by\n",
    "the age groups. Create a list that contains a numeric value for each response to the\n",
    "categorical variable.\n",
    "2. Write a Python program to display some basic statistical details like percentile, mean,\n",
    "standard deviation etc. of the species of ‘Iris-setosa’, ‘Iris-versicolor’ and ‘Iris-\n",
    "versicolor’ of iris.csv dataset."
   ],
   "metadata": {
    "collapsed": false,
    "pycharm": {
     "name": "#%% md\n"
    }
   }
  },
  {
   "cell_type": "code",
   "execution_count": 19,
   "metadata": {
    "collapsed": true
   },
   "outputs": [],
   "source": [
    "import pandas as pd\n",
    "import seaborn as sns\n",
    "import warnings\n",
    "warnings.filterwarnings('ignore')\n",
    "sns.set()"
   ]
  },
  {
   "cell_type": "code",
   "execution_count": 20,
   "outputs": [
    {
     "data": {
      "text/plain": "           Brand    Price       Body  Mileage  EngineV Engine Type  \\\n0            BMW   4200.0      sedan      277      2.0      Petrol   \n1  Mercedes-Benz   7900.0        van      427      2.9      Diesel   \n2  Mercedes-Benz  13300.0      sedan      358      5.0         Gas   \n3           Audi  23000.0  crossover      240      4.2      Petrol   \n4         Toyota  18300.0  crossover      120      2.0      Petrol   \n\n  Registration  Year  \n0          yes  1991  \n1          yes  1999  \n2          yes  2003  \n3          yes  2007  \n4          yes  2011  ",
      "text/html": "<div>\n<style scoped>\n    .dataframe tbody tr th:only-of-type {\n        vertical-align: middle;\n    }\n\n    .dataframe tbody tr th {\n        vertical-align: top;\n    }\n\n    .dataframe thead th {\n        text-align: right;\n    }\n</style>\n<table border=\"1\" class=\"dataframe\">\n  <thead>\n    <tr style=\"text-align: right;\">\n      <th></th>\n      <th>Brand</th>\n      <th>Price</th>\n      <th>Body</th>\n      <th>Mileage</th>\n      <th>EngineV</th>\n      <th>Engine Type</th>\n      <th>Registration</th>\n      <th>Year</th>\n    </tr>\n  </thead>\n  <tbody>\n    <tr>\n      <th>0</th>\n      <td>BMW</td>\n      <td>4200.0</td>\n      <td>sedan</td>\n      <td>277</td>\n      <td>2.0</td>\n      <td>Petrol</td>\n      <td>yes</td>\n      <td>1991</td>\n    </tr>\n    <tr>\n      <th>1</th>\n      <td>Mercedes-Benz</td>\n      <td>7900.0</td>\n      <td>van</td>\n      <td>427</td>\n      <td>2.9</td>\n      <td>Diesel</td>\n      <td>yes</td>\n      <td>1999</td>\n    </tr>\n    <tr>\n      <th>2</th>\n      <td>Mercedes-Benz</td>\n      <td>13300.0</td>\n      <td>sedan</td>\n      <td>358</td>\n      <td>5.0</td>\n      <td>Gas</td>\n      <td>yes</td>\n      <td>2003</td>\n    </tr>\n    <tr>\n      <th>3</th>\n      <td>Audi</td>\n      <td>23000.0</td>\n      <td>crossover</td>\n      <td>240</td>\n      <td>4.2</td>\n      <td>Petrol</td>\n      <td>yes</td>\n      <td>2007</td>\n    </tr>\n    <tr>\n      <th>4</th>\n      <td>Toyota</td>\n      <td>18300.0</td>\n      <td>crossover</td>\n      <td>120</td>\n      <td>2.0</td>\n      <td>Petrol</td>\n      <td>yes</td>\n      <td>2011</td>\n    </tr>\n  </tbody>\n</table>\n</div>"
     },
     "execution_count": 20,
     "metadata": {},
     "output_type": "execute_result"
    }
   ],
   "source": [
    "data_cars = pd.read_csv('1.04. Real-life example.csv')\n",
    "\n",
    "data_cars = data_cars.drop(['Model'], axis=1 )\n",
    "data_cars.head()"
   ],
   "metadata": {
    "collapsed": false,
    "pycharm": {
     "name": "#%%\n"
    }
   }
  },
  {
   "cell_type": "markdown",
   "source": [
    "### Ans 1"
   ],
   "metadata": {
    "collapsed": false,
    "pycharm": {
     "name": "#%% md\n"
    }
   }
  },
  {
   "cell_type": "code",
   "execution_count": 21,
   "outputs": [],
   "source": [
    "data_numerical = data_cars.drop(['Brand','Body','Engine Type','Registration','Year'], axis=1)\n",
    "\n",
    "#Finding Mean\n",
    "mean_cars = data_numerical.mean()\n",
    "\n",
    "#Finding Mode\n",
    "mode_cars = data_numerical.mode()\n",
    "\n",
    "#Finding Median\n",
    "median_cars = data_numerical.median()\n",
    "\n",
    "#Finding Maximum\n",
    "maximum_cars = data_numerical.max()\n",
    "\n",
    "#Finding Minimum\n",
    "minimum_cars = data_numerical.min()\n",
    "\n",
    "#Finding Standard Deviation\n",
    "std_cars = data_numerical.std()\n",
    "\n",
    "#Finding the variance\n",
    "variance_cars = data_numerical.var()\n",
    "\n",
    "#Finding the skewness\n",
    "skewness_cars = data_numerical.skew()"
   ],
   "metadata": {
    "collapsed": false,
    "pycharm": {
     "name": "#%%\n"
    }
   }
  },
  {
   "cell_type": "markdown",
   "source": [
    "### Ans 2"
   ],
   "metadata": {
    "collapsed": false,
    "pycharm": {
     "name": "#%% md\n"
    }
   }
  },
  {
   "cell_type": "code",
   "execution_count": 22,
   "outputs": [
    {
     "data": {
      "text/plain": "   sepal_length  sepal_width  petal_length  petal_width species\n0           5.1          3.5           1.4          0.2  setosa\n1           4.9          3.0           1.4          0.2  setosa\n2           4.7          3.2           1.3          0.2  setosa\n3           4.6          3.1           1.5          0.2  setosa\n4           5.0          3.6           1.4          0.2  setosa",
      "text/html": "<div>\n<style scoped>\n    .dataframe tbody tr th:only-of-type {\n        vertical-align: middle;\n    }\n\n    .dataframe tbody tr th {\n        vertical-align: top;\n    }\n\n    .dataframe thead th {\n        text-align: right;\n    }\n</style>\n<table border=\"1\" class=\"dataframe\">\n  <thead>\n    <tr style=\"text-align: right;\">\n      <th></th>\n      <th>sepal_length</th>\n      <th>sepal_width</th>\n      <th>petal_length</th>\n      <th>petal_width</th>\n      <th>species</th>\n    </tr>\n  </thead>\n  <tbody>\n    <tr>\n      <th>0</th>\n      <td>5.1</td>\n      <td>3.5</td>\n      <td>1.4</td>\n      <td>0.2</td>\n      <td>setosa</td>\n    </tr>\n    <tr>\n      <th>1</th>\n      <td>4.9</td>\n      <td>3.0</td>\n      <td>1.4</td>\n      <td>0.2</td>\n      <td>setosa</td>\n    </tr>\n    <tr>\n      <th>2</th>\n      <td>4.7</td>\n      <td>3.2</td>\n      <td>1.3</td>\n      <td>0.2</td>\n      <td>setosa</td>\n    </tr>\n    <tr>\n      <th>3</th>\n      <td>4.6</td>\n      <td>3.1</td>\n      <td>1.5</td>\n      <td>0.2</td>\n      <td>setosa</td>\n    </tr>\n    <tr>\n      <th>4</th>\n      <td>5.0</td>\n      <td>3.6</td>\n      <td>1.4</td>\n      <td>0.2</td>\n      <td>setosa</td>\n    </tr>\n  </tbody>\n</table>\n</div>"
     },
     "execution_count": 22,
     "metadata": {},
     "output_type": "execute_result"
    }
   ],
   "source": [
    "df_iris = pd.read_csv(\"iris.csv\")\n",
    "df_iris.head()"
   ],
   "metadata": {
    "collapsed": false,
    "pycharm": {
     "name": "#%%\n"
    }
   }
  },
  {
   "cell_type": "code",
   "execution_count": 23,
   "outputs": [
    {
     "data": {
      "text/plain": "count    150.000000\nmean       3.057333\nstd        0.435866\nmin        2.000000\n25%        2.800000\n50%        3.000000\n75%        3.300000\nmax        4.400000\nName: sepal_width, dtype: float64"
     },
     "execution_count": 23,
     "metadata": {},
     "output_type": "execute_result"
    }
   ],
   "source": [
    "df_iris[\"sepal_width\"].describe()"
   ],
   "metadata": {
    "collapsed": false,
    "pycharm": {
     "name": "#%%\n"
    }
   }
  },
  {
   "cell_type": "code",
   "execution_count": 24,
   "outputs": [
    {
     "data": {
      "text/plain": "count    150.000000\nmean       5.843333\nstd        0.828066\nmin        4.300000\n25%        5.100000\n50%        5.800000\n75%        6.400000\nmax        7.900000\nName: sepal_length, dtype: float64"
     },
     "execution_count": 24,
     "metadata": {},
     "output_type": "execute_result"
    }
   ],
   "source": [
    "df_iris[\"sepal_length\"].describe()"
   ],
   "metadata": {
    "collapsed": false,
    "pycharm": {
     "name": "#%%\n"
    }
   }
  },
  {
   "cell_type": "code",
   "execution_count": 25,
   "outputs": [
    {
     "data": {
      "text/plain": "count    150.000000\nmean       1.199333\nstd        0.762238\nmin        0.100000\n25%        0.300000\n50%        1.300000\n75%        1.800000\nmax        2.500000\nName: petal_width, dtype: float64"
     },
     "execution_count": 25,
     "metadata": {},
     "output_type": "execute_result"
    }
   ],
   "source": [
    "df_iris[\"petal_width\"].describe()"
   ],
   "metadata": {
    "collapsed": false,
    "pycharm": {
     "name": "#%%\n"
    }
   }
  },
  {
   "cell_type": "code",
   "execution_count": 26,
   "outputs": [
    {
     "data": {
      "text/plain": "count    150.000000\nmean       3.758000\nstd        1.765298\nmin        1.000000\n25%        1.600000\n50%        4.350000\n75%        5.100000\nmax        6.900000\nName: petal_length, dtype: float64"
     },
     "execution_count": 26,
     "metadata": {},
     "output_type": "execute_result"
    }
   ],
   "source": [
    "df_iris[\"petal_length\"].describe()"
   ],
   "metadata": {
    "collapsed": false,
    "pycharm": {
     "name": "#%%\n"
    }
   }
  },
  {
   "cell_type": "code",
   "execution_count": 27,
   "outputs": [
    {
     "data": {
      "text/plain": "array(['setosa', 'versicolor', 'virginica'], dtype=object)"
     },
     "execution_count": 27,
     "metadata": {},
     "output_type": "execute_result"
    }
   ],
   "source": [
    "df_iris[\"species\"].unique()"
   ],
   "metadata": {
    "collapsed": false,
    "pycharm": {
     "name": "#%%\n"
    }
   }
  },
  {
   "cell_type": "code",
   "execution_count": 28,
   "outputs": [
    {
     "data": {
      "text/plain": "       sepal_length  sepal_width  petal_length  petal_width\ncount      50.00000    50.000000     50.000000    50.000000\nmean        5.00600     3.428000      1.462000     0.246000\nstd         0.35249     0.379064      0.173664     0.105386\nmin         4.30000     2.300000      1.000000     0.100000\n25%         4.80000     3.200000      1.400000     0.200000\n50%         5.00000     3.400000      1.500000     0.200000\n75%         5.20000     3.675000      1.575000     0.300000\nmax         5.80000     4.400000      1.900000     0.600000",
      "text/html": "<div>\n<style scoped>\n    .dataframe tbody tr th:only-of-type {\n        vertical-align: middle;\n    }\n\n    .dataframe tbody tr th {\n        vertical-align: top;\n    }\n\n    .dataframe thead th {\n        text-align: right;\n    }\n</style>\n<table border=\"1\" class=\"dataframe\">\n  <thead>\n    <tr style=\"text-align: right;\">\n      <th></th>\n      <th>sepal_length</th>\n      <th>sepal_width</th>\n      <th>petal_length</th>\n      <th>petal_width</th>\n    </tr>\n  </thead>\n  <tbody>\n    <tr>\n      <th>count</th>\n      <td>50.00000</td>\n      <td>50.000000</td>\n      <td>50.000000</td>\n      <td>50.000000</td>\n    </tr>\n    <tr>\n      <th>mean</th>\n      <td>5.00600</td>\n      <td>3.428000</td>\n      <td>1.462000</td>\n      <td>0.246000</td>\n    </tr>\n    <tr>\n      <th>std</th>\n      <td>0.35249</td>\n      <td>0.379064</td>\n      <td>0.173664</td>\n      <td>0.105386</td>\n    </tr>\n    <tr>\n      <th>min</th>\n      <td>4.30000</td>\n      <td>2.300000</td>\n      <td>1.000000</td>\n      <td>0.100000</td>\n    </tr>\n    <tr>\n      <th>25%</th>\n      <td>4.80000</td>\n      <td>3.200000</td>\n      <td>1.400000</td>\n      <td>0.200000</td>\n    </tr>\n    <tr>\n      <th>50%</th>\n      <td>5.00000</td>\n      <td>3.400000</td>\n      <td>1.500000</td>\n      <td>0.200000</td>\n    </tr>\n    <tr>\n      <th>75%</th>\n      <td>5.20000</td>\n      <td>3.675000</td>\n      <td>1.575000</td>\n      <td>0.300000</td>\n    </tr>\n    <tr>\n      <th>max</th>\n      <td>5.80000</td>\n      <td>4.400000</td>\n      <td>1.900000</td>\n      <td>0.600000</td>\n    </tr>\n  </tbody>\n</table>\n</div>"
     },
     "execution_count": 28,
     "metadata": {},
     "output_type": "execute_result"
    }
   ],
   "source": [
    "df_iris[df_iris[\"species\"] == \"setosa\"].describe()"
   ],
   "metadata": {
    "collapsed": false,
    "pycharm": {
     "name": "#%%\n"
    }
   }
  },
  {
   "cell_type": "code",
   "execution_count": 29,
   "outputs": [
    {
     "data": {
      "text/plain": "       sepal_length  sepal_width  petal_length  petal_width\ncount     50.000000    50.000000     50.000000    50.000000\nmean       5.936000     2.770000      4.260000     1.326000\nstd        0.516171     0.313798      0.469911     0.197753\nmin        4.900000     2.000000      3.000000     1.000000\n25%        5.600000     2.525000      4.000000     1.200000\n50%        5.900000     2.800000      4.350000     1.300000\n75%        6.300000     3.000000      4.600000     1.500000\nmax        7.000000     3.400000      5.100000     1.800000",
      "text/html": "<div>\n<style scoped>\n    .dataframe tbody tr th:only-of-type {\n        vertical-align: middle;\n    }\n\n    .dataframe tbody tr th {\n        vertical-align: top;\n    }\n\n    .dataframe thead th {\n        text-align: right;\n    }\n</style>\n<table border=\"1\" class=\"dataframe\">\n  <thead>\n    <tr style=\"text-align: right;\">\n      <th></th>\n      <th>sepal_length</th>\n      <th>sepal_width</th>\n      <th>petal_length</th>\n      <th>petal_width</th>\n    </tr>\n  </thead>\n  <tbody>\n    <tr>\n      <th>count</th>\n      <td>50.000000</td>\n      <td>50.000000</td>\n      <td>50.000000</td>\n      <td>50.000000</td>\n    </tr>\n    <tr>\n      <th>mean</th>\n      <td>5.936000</td>\n      <td>2.770000</td>\n      <td>4.260000</td>\n      <td>1.326000</td>\n    </tr>\n    <tr>\n      <th>std</th>\n      <td>0.516171</td>\n      <td>0.313798</td>\n      <td>0.469911</td>\n      <td>0.197753</td>\n    </tr>\n    <tr>\n      <th>min</th>\n      <td>4.900000</td>\n      <td>2.000000</td>\n      <td>3.000000</td>\n      <td>1.000000</td>\n    </tr>\n    <tr>\n      <th>25%</th>\n      <td>5.600000</td>\n      <td>2.525000</td>\n      <td>4.000000</td>\n      <td>1.200000</td>\n    </tr>\n    <tr>\n      <th>50%</th>\n      <td>5.900000</td>\n      <td>2.800000</td>\n      <td>4.350000</td>\n      <td>1.300000</td>\n    </tr>\n    <tr>\n      <th>75%</th>\n      <td>6.300000</td>\n      <td>3.000000</td>\n      <td>4.600000</td>\n      <td>1.500000</td>\n    </tr>\n    <tr>\n      <th>max</th>\n      <td>7.000000</td>\n      <td>3.400000</td>\n      <td>5.100000</td>\n      <td>1.800000</td>\n    </tr>\n  </tbody>\n</table>\n</div>"
     },
     "execution_count": 29,
     "metadata": {},
     "output_type": "execute_result"
    }
   ],
   "source": [
    "df_iris[df_iris[\"species\"] == \"versicolor\"].describe()"
   ],
   "metadata": {
    "collapsed": false,
    "pycharm": {
     "name": "#%%\n"
    }
   }
  },
  {
   "cell_type": "code",
   "execution_count": 30,
   "outputs": [
    {
     "data": {
      "text/plain": "       sepal_length  sepal_width  petal_length  petal_width\ncount      50.00000    50.000000     50.000000     50.00000\nmean        6.58800     2.974000      5.552000      2.02600\nstd         0.63588     0.322497      0.551895      0.27465\nmin         4.90000     2.200000      4.500000      1.40000\n25%         6.22500     2.800000      5.100000      1.80000\n50%         6.50000     3.000000      5.550000      2.00000\n75%         6.90000     3.175000      5.875000      2.30000\nmax         7.90000     3.800000      6.900000      2.50000",
      "text/html": "<div>\n<style scoped>\n    .dataframe tbody tr th:only-of-type {\n        vertical-align: middle;\n    }\n\n    .dataframe tbody tr th {\n        vertical-align: top;\n    }\n\n    .dataframe thead th {\n        text-align: right;\n    }\n</style>\n<table border=\"1\" class=\"dataframe\">\n  <thead>\n    <tr style=\"text-align: right;\">\n      <th></th>\n      <th>sepal_length</th>\n      <th>sepal_width</th>\n      <th>petal_length</th>\n      <th>petal_width</th>\n    </tr>\n  </thead>\n  <tbody>\n    <tr>\n      <th>count</th>\n      <td>50.00000</td>\n      <td>50.000000</td>\n      <td>50.000000</td>\n      <td>50.00000</td>\n    </tr>\n    <tr>\n      <th>mean</th>\n      <td>6.58800</td>\n      <td>2.974000</td>\n      <td>5.552000</td>\n      <td>2.02600</td>\n    </tr>\n    <tr>\n      <th>std</th>\n      <td>0.63588</td>\n      <td>0.322497</td>\n      <td>0.551895</td>\n      <td>0.27465</td>\n    </tr>\n    <tr>\n      <th>min</th>\n      <td>4.90000</td>\n      <td>2.200000</td>\n      <td>4.500000</td>\n      <td>1.40000</td>\n    </tr>\n    <tr>\n      <th>25%</th>\n      <td>6.22500</td>\n      <td>2.800000</td>\n      <td>5.100000</td>\n      <td>1.80000</td>\n    </tr>\n    <tr>\n      <th>50%</th>\n      <td>6.50000</td>\n      <td>3.000000</td>\n      <td>5.550000</td>\n      <td>2.00000</td>\n    </tr>\n    <tr>\n      <th>75%</th>\n      <td>6.90000</td>\n      <td>3.175000</td>\n      <td>5.875000</td>\n      <td>2.30000</td>\n    </tr>\n    <tr>\n      <th>max</th>\n      <td>7.90000</td>\n      <td>3.800000</td>\n      <td>6.900000</td>\n      <td>2.50000</td>\n    </tr>\n  </tbody>\n</table>\n</div>"
     },
     "execution_count": 30,
     "metadata": {},
     "output_type": "execute_result"
    }
   ],
   "source": [
    "df_iris[df_iris[\"species\"] == \"virginica\"].describe()"
   ],
   "metadata": {
    "collapsed": false,
    "pycharm": {
     "name": "#%%\n"
    }
   }
  }
 ],
 "metadata": {
  "kernelspec": {
   "display_name": "Python 3",
   "language": "python",
   "name": "python3"
  },
  "language_info": {
   "codemirror_mode": {
    "name": "ipython",
    "version": 2
   },
   "file_extension": ".py",
   "mimetype": "text/x-python",
   "name": "python",
   "nbconvert_exporter": "python",
   "pygments_lexer": "ipython2",
   "version": "2.7.6"
  }
 },
 "nbformat": 4,
 "nbformat_minor": 0
}