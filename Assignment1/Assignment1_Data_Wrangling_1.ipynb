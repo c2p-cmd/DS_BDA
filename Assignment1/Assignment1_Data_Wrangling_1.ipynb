{
 "cells": [
  {
   "cell_type": "markdown",
   "metadata": {
    "collapsed": true,
    "pycharm": {
     "name": "#%% md\n"
    }
   },
   "source": [
    "### Data Wrangling, I\n",
    "Perform the following operations using Python on any open source dataset (e.g., data.csv)\n",
    "1. Import all the required Python Libraries.\n",
    "2. Locate an open source data from the web (e.g. https://www.kaggle.com). Provide a clear\n",
    "description of the data and its source (i.e., URL of the website).\n",
    "3. Load the Dataset into pandas data frame.\n",
    "4. Data Preprocessing: check for missing values in the data using pandas insult(), describe()\n",
    "function to get some initial statistics. Provide variable descriptions. Types of variables\n",
    "etc. Check the dimensions of the data frame.\n",
    "5. Data Formatting and Data Normalization: Summarize the types of variables by checking\n",
    "the data types (i.e., character, numeric, integer, factor, and logical) of the variables in the\n",
    "data set. If variables are not in the correct data type, apply proper type conversions.\n",
    "6. Turn categorical variables into quantitative variables in Python."
   ]
  },
  {
   "cell_type": "code",
   "execution_count": 1,
   "outputs": [],
   "source": [
    "#1. Import all the required Python Libraries.\n",
    "import pandas as pd\n",
    "from sklearn.preprocessing import StandardScaler\n",
    "import seaborn as sns\n",
    "sns.set()"
   ],
   "metadata": {
    "collapsed": false,
    "pycharm": {
     "name": "#%%\n"
    }
   }
  },
  {
   "cell_type": "markdown",
   "source": [],
   "metadata": {
    "collapsed": false,
    "pycharm": {
     "name": "#%% md\n"
    }
   }
  },
  {
   "cell_type": "code",
   "execution_count": 2,
   "outputs": [
    {
     "data": {
      "text/plain": "           Brand    Price       Body  Mileage  EngineV Engine Type  \\\n0            BMW   4200.0      sedan      277      2.0      Petrol   \n1  Mercedes-Benz   7900.0        van      427      2.9      Diesel   \n2  Mercedes-Benz  13300.0      sedan      358      5.0         Gas   \n3           Audi  23000.0  crossover      240      4.2      Petrol   \n4         Toyota  18300.0  crossover      120      2.0      Petrol   \n\n  Registration  Year         Model  \n0          yes  1991           320  \n1          yes  1999  Sprinter 212  \n2          yes  2003         S 500  \n3          yes  2007            Q7  \n4          yes  2011         Rav 4  ",
      "text/html": "<div>\n<style scoped>\n    .dataframe tbody tr th:only-of-type {\n        vertical-align: middle;\n    }\n\n    .dataframe tbody tr th {\n        vertical-align: top;\n    }\n\n    .dataframe thead th {\n        text-align: right;\n    }\n</style>\n<table border=\"1\" class=\"dataframe\">\n  <thead>\n    <tr style=\"text-align: right;\">\n      <th></th>\n      <th>Brand</th>\n      <th>Price</th>\n      <th>Body</th>\n      <th>Mileage</th>\n      <th>EngineV</th>\n      <th>Engine Type</th>\n      <th>Registration</th>\n      <th>Year</th>\n      <th>Model</th>\n    </tr>\n  </thead>\n  <tbody>\n    <tr>\n      <th>0</th>\n      <td>BMW</td>\n      <td>4200.0</td>\n      <td>sedan</td>\n      <td>277</td>\n      <td>2.0</td>\n      <td>Petrol</td>\n      <td>yes</td>\n      <td>1991</td>\n      <td>320</td>\n    </tr>\n    <tr>\n      <th>1</th>\n      <td>Mercedes-Benz</td>\n      <td>7900.0</td>\n      <td>van</td>\n      <td>427</td>\n      <td>2.9</td>\n      <td>Diesel</td>\n      <td>yes</td>\n      <td>1999</td>\n      <td>Sprinter 212</td>\n    </tr>\n    <tr>\n      <th>2</th>\n      <td>Mercedes-Benz</td>\n      <td>13300.0</td>\n      <td>sedan</td>\n      <td>358</td>\n      <td>5.0</td>\n      <td>Gas</td>\n      <td>yes</td>\n      <td>2003</td>\n      <td>S 500</td>\n    </tr>\n    <tr>\n      <th>3</th>\n      <td>Audi</td>\n      <td>23000.0</td>\n      <td>crossover</td>\n      <td>240</td>\n      <td>4.2</td>\n      <td>Petrol</td>\n      <td>yes</td>\n      <td>2007</td>\n      <td>Q7</td>\n    </tr>\n    <tr>\n      <th>4</th>\n      <td>Toyota</td>\n      <td>18300.0</td>\n      <td>crossover</td>\n      <td>120</td>\n      <td>2.0</td>\n      <td>Petrol</td>\n      <td>yes</td>\n      <td>2011</td>\n      <td>Rav 4</td>\n    </tr>\n  </tbody>\n</table>\n</div>"
     },
     "execution_count": 2,
     "metadata": {},
     "output_type": "execute_result"
    }
   ],
   "source": [
    "#2. Locate an open source data from the web (e.g. https://www.kaggle.com). Provide a clear\n",
    "#description of the data and its source (i.e., URL of the website).\n",
    "#Site = https://github.com/AkshadC/ML/blob/master/Models/LinearRegressionModel/Real_Life_Example_Cars_Model/1.04.%20Real-life%20example.csv\n",
    "\n",
    "\n",
    "#3.Load the Dataset into pandas data frame.\n",
    "raw_data_file = pd.read_csv('1.04. Real-life example.csv')\n",
    "raw_data_file.head()"
   ],
   "metadata": {
    "collapsed": false,
    "pycharm": {
     "name": "#%%\n"
    }
   }
  },
  {
   "cell_type": "markdown",
   "source": [
    "### 4. Data Preprocessing: check for missing values in the data using pandas insult(), describe()\n",
    "function to get some initial statistics. Provide variable descriptions. Types of variables\n",
    "etc. Check the dimensions of the data frame."
   ],
   "metadata": {
    "collapsed": false,
    "pycharm": {
     "name": "#%% md\n"
    }
   }
  },
  {
   "cell_type": "code",
   "execution_count": 3,
   "outputs": [
    {
     "data": {
      "text/plain": "             Brand          Price   Body      Mileage      EngineV  \\\ncount         4345    4173.000000   4345  4345.000000  4195.000000   \nunique           7            NaN      6          NaN          NaN   \ntop     Volkswagen            NaN  sedan          NaN          NaN   \nfreq           936            NaN   1649          NaN          NaN   \nmean           NaN   19418.746935    NaN   161.237284     2.790734   \nstd            NaN   25584.242620    NaN   105.705797     5.066437   \nmin            NaN     600.000000    NaN     0.000000     0.600000   \n25%            NaN    6999.000000    NaN    86.000000     1.800000   \n50%            NaN   11500.000000    NaN   155.000000     2.200000   \n75%            NaN   21700.000000    NaN   230.000000     3.000000   \nmax            NaN  300000.000000    NaN   980.000000    99.990000   \n\n       Engine Type Registration         Year    Model  \ncount         4345         4345  4345.000000     4345  \nunique           4            2          NaN      312  \ntop         Diesel          yes          NaN  E-Class  \nfreq          2019         3947          NaN      199  \nmean           NaN          NaN  2006.550058      NaN  \nstd            NaN          NaN     6.719097      NaN  \nmin            NaN          NaN  1969.000000      NaN  \n25%            NaN          NaN  2003.000000      NaN  \n50%            NaN          NaN  2008.000000      NaN  \n75%            NaN          NaN  2012.000000      NaN  \nmax            NaN          NaN  2016.000000      NaN  ",
      "text/html": "<div>\n<style scoped>\n    .dataframe tbody tr th:only-of-type {\n        vertical-align: middle;\n    }\n\n    .dataframe tbody tr th {\n        vertical-align: top;\n    }\n\n    .dataframe thead th {\n        text-align: right;\n    }\n</style>\n<table border=\"1\" class=\"dataframe\">\n  <thead>\n    <tr style=\"text-align: right;\">\n      <th></th>\n      <th>Brand</th>\n      <th>Price</th>\n      <th>Body</th>\n      <th>Mileage</th>\n      <th>EngineV</th>\n      <th>Engine Type</th>\n      <th>Registration</th>\n      <th>Year</th>\n      <th>Model</th>\n    </tr>\n  </thead>\n  <tbody>\n    <tr>\n      <th>count</th>\n      <td>4345</td>\n      <td>4173.000000</td>\n      <td>4345</td>\n      <td>4345.000000</td>\n      <td>4195.000000</td>\n      <td>4345</td>\n      <td>4345</td>\n      <td>4345.000000</td>\n      <td>4345</td>\n    </tr>\n    <tr>\n      <th>unique</th>\n      <td>7</td>\n      <td>NaN</td>\n      <td>6</td>\n      <td>NaN</td>\n      <td>NaN</td>\n      <td>4</td>\n      <td>2</td>\n      <td>NaN</td>\n      <td>312</td>\n    </tr>\n    <tr>\n      <th>top</th>\n      <td>Volkswagen</td>\n      <td>NaN</td>\n      <td>sedan</td>\n      <td>NaN</td>\n      <td>NaN</td>\n      <td>Diesel</td>\n      <td>yes</td>\n      <td>NaN</td>\n      <td>E-Class</td>\n    </tr>\n    <tr>\n      <th>freq</th>\n      <td>936</td>\n      <td>NaN</td>\n      <td>1649</td>\n      <td>NaN</td>\n      <td>NaN</td>\n      <td>2019</td>\n      <td>3947</td>\n      <td>NaN</td>\n      <td>199</td>\n    </tr>\n    <tr>\n      <th>mean</th>\n      <td>NaN</td>\n      <td>19418.746935</td>\n      <td>NaN</td>\n      <td>161.237284</td>\n      <td>2.790734</td>\n      <td>NaN</td>\n      <td>NaN</td>\n      <td>2006.550058</td>\n      <td>NaN</td>\n    </tr>\n    <tr>\n      <th>std</th>\n      <td>NaN</td>\n      <td>25584.242620</td>\n      <td>NaN</td>\n      <td>105.705797</td>\n      <td>5.066437</td>\n      <td>NaN</td>\n      <td>NaN</td>\n      <td>6.719097</td>\n      <td>NaN</td>\n    </tr>\n    <tr>\n      <th>min</th>\n      <td>NaN</td>\n      <td>600.000000</td>\n      <td>NaN</td>\n      <td>0.000000</td>\n      <td>0.600000</td>\n      <td>NaN</td>\n      <td>NaN</td>\n      <td>1969.000000</td>\n      <td>NaN</td>\n    </tr>\n    <tr>\n      <th>25%</th>\n      <td>NaN</td>\n      <td>6999.000000</td>\n      <td>NaN</td>\n      <td>86.000000</td>\n      <td>1.800000</td>\n      <td>NaN</td>\n      <td>NaN</td>\n      <td>2003.000000</td>\n      <td>NaN</td>\n    </tr>\n    <tr>\n      <th>50%</th>\n      <td>NaN</td>\n      <td>11500.000000</td>\n      <td>NaN</td>\n      <td>155.000000</td>\n      <td>2.200000</td>\n      <td>NaN</td>\n      <td>NaN</td>\n      <td>2008.000000</td>\n      <td>NaN</td>\n    </tr>\n    <tr>\n      <th>75%</th>\n      <td>NaN</td>\n      <td>21700.000000</td>\n      <td>NaN</td>\n      <td>230.000000</td>\n      <td>3.000000</td>\n      <td>NaN</td>\n      <td>NaN</td>\n      <td>2012.000000</td>\n      <td>NaN</td>\n    </tr>\n    <tr>\n      <th>max</th>\n      <td>NaN</td>\n      <td>300000.000000</td>\n      <td>NaN</td>\n      <td>980.000000</td>\n      <td>99.990000</td>\n      <td>NaN</td>\n      <td>NaN</td>\n      <td>2016.000000</td>\n      <td>NaN</td>\n    </tr>\n  </tbody>\n</table>\n</div>"
     },
     "execution_count": 3,
     "metadata": {},
     "output_type": "execute_result"
    }
   ],
   "source": [
    "raw_data_file.describe(include='all')"
   ],
   "metadata": {
    "collapsed": false,
    "pycharm": {
     "name": "#%%\n"
    }
   }
  },
  {
   "cell_type": "code",
   "execution_count": 4,
   "outputs": [
    {
     "name": "stdout",
     "output_type": "stream",
     "text": [
      "<class 'pandas.core.frame.DataFrame'>\n",
      "RangeIndex: 4345 entries, 0 to 4344\n",
      "Data columns (total 9 columns):\n",
      " #   Column        Non-Null Count  Dtype  \n",
      "---  ------        --------------  -----  \n",
      " 0   Brand         4345 non-null   object \n",
      " 1   Price         4173 non-null   float64\n",
      " 2   Body          4345 non-null   object \n",
      " 3   Mileage       4345 non-null   int64  \n",
      " 4   EngineV       4195 non-null   float64\n",
      " 5   Engine Type   4345 non-null   object \n",
      " 6   Registration  4345 non-null   object \n",
      " 7   Year          4345 non-null   int64  \n",
      " 8   Model         4345 non-null   object \n",
      "dtypes: float64(2), int64(2), object(5)\n",
      "memory usage: 305.6+ KB\n"
     ]
    }
   ],
   "source": [
    "raw_data_file.info()"
   ],
   "metadata": {
    "collapsed": false,
    "pycharm": {
     "name": "#%%\n"
    }
   }
  },
  {
   "cell_type": "code",
   "execution_count": 5,
   "outputs": [
    {
     "name": "stdout",
     "output_type": "stream",
     "text": [
      "['Price', 'EngineV']\n"
     ]
    }
   ],
   "source": [
    "null_count = raw_data_file.isnull().sum()\n",
    "missing_list = []\n",
    "for col_name, count in null_count.items():\n",
    "    if count > 0:\n",
    "        missing_list.append(str(col_name))\n",
    "print(missing_list)"
   ],
   "metadata": {
    "collapsed": false,
    "pycharm": {
     "name": "#%%\n"
    }
   }
  },
  {
   "cell_type": "code",
   "execution_count": 6,
   "outputs": [
    {
     "data": {
      "text/plain": "Brand           0\nPrice           0\nBody            0\nMileage         0\nEngineV         0\nEngine Type     0\nRegistration    0\nYear            0\nModel           0\ndtype: int64"
     },
     "execution_count": 6,
     "metadata": {},
     "output_type": "execute_result"
    }
   ],
   "source": [
    "for missing in missing_list:\n",
    "    raw_data_file[missing] = raw_data_file[missing].fillna(raw_data_file[missing].mean())\n",
    "raw_data_file.isnull().sum()"
   ],
   "metadata": {
    "collapsed": false,
    "pycharm": {
     "name": "#%%\n"
    }
   }
  },
  {
   "cell_type": "markdown",
   "source": [
    "### 6. Turn categorical variables into quantitative variables in Python."
   ],
   "metadata": {
    "collapsed": false,
    "pycharm": {
     "name": "#%% md\n"
    }
   }
  },
  {
   "cell_type": "code",
   "execution_count": 7,
   "outputs": [
    {
     "data": {
      "text/plain": "         Price  Mileage   EngineV  Year  Brand_BMW  Brand_Mercedes-Benz  \\\n0       4200.0      277  2.000000  1991          1                    0   \n1       7900.0      427  2.900000  1999          0                    1   \n2      13300.0      358  5.000000  2003          0                    1   \n3      23000.0      240  4.200000  2007          0                    0   \n4      18300.0      120  2.000000  2011          0                    0   \n...        ...      ...       ...   ...        ...                  ...   \n4340  125000.0        9  3.000000  2014          0                    1   \n4341    6500.0        1  3.500000  1999          1                    0   \n4342    8000.0      194  2.000000  1985          1                    0   \n4343   14200.0       31  2.790734  2014          0                    0   \n4344   13500.0      124  2.000000  2013          0                    0   \n\n      Brand_Mitsubishi  Brand_Renault  Brand_Toyota  Brand_Volkswagen  ...  \\\n0                    0              0             0                 0  ...   \n1                    0              0             0                 0  ...   \n2                    0              0             0                 0  ...   \n3                    0              0             0                 0  ...   \n4                    0              0             1                 0  ...   \n...                ...            ...           ...               ...  ...   \n4340                 0              0             0                 0  ...   \n4341                 0              0             0                 0  ...   \n4342                 0              0             0                 0  ...   \n4343                 0              0             1                 0  ...   \n4344                 0              0             0                 1  ...   \n\n      Model_Vito  Model_X1  Model_X3  Model_X5  Model_X5 M  Model_X6  \\\n0              0         0         0         0           0         0   \n1              0         0         0         0           0         0   \n2              0         0         0         0           0         0   \n3              0         0         0         0           0         0   \n4              0         0         0         0           0         0   \n...          ...       ...       ...       ...         ...       ...   \n4340           0         0         0         0           0         0   \n4341           0         0         0         0           0         0   \n4342           0         0         0         0           0         0   \n4343           0         0         0         0           0         0   \n4344           0         0         0         0           0         0   \n\n      Model_X6 M  Model_Yaris  Model_Z3  Model_Z4  \n0              0            0         0         0  \n1              0            0         0         0  \n2              0            0         0         0  \n3              0            0         0         0  \n4              0            0         0         0  \n...          ...          ...       ...       ...  \n4340           0            0         0         0  \n4341           0            0         0         0  \n4342           0            0         0         0  \n4343           0            0         0         0  \n4344           0            0         0         0  \n\n[4345 rows x 330 columns]",
      "text/html": "<div>\n<style scoped>\n    .dataframe tbody tr th:only-of-type {\n        vertical-align: middle;\n    }\n\n    .dataframe tbody tr th {\n        vertical-align: top;\n    }\n\n    .dataframe thead th {\n        text-align: right;\n    }\n</style>\n<table border=\"1\" class=\"dataframe\">\n  <thead>\n    <tr style=\"text-align: right;\">\n      <th></th>\n      <th>Price</th>\n      <th>Mileage</th>\n      <th>EngineV</th>\n      <th>Year</th>\n      <th>Brand_BMW</th>\n      <th>Brand_Mercedes-Benz</th>\n      <th>Brand_Mitsubishi</th>\n      <th>Brand_Renault</th>\n      <th>Brand_Toyota</th>\n      <th>Brand_Volkswagen</th>\n      <th>...</th>\n      <th>Model_Vito</th>\n      <th>Model_X1</th>\n      <th>Model_X3</th>\n      <th>Model_X5</th>\n      <th>Model_X5 M</th>\n      <th>Model_X6</th>\n      <th>Model_X6 M</th>\n      <th>Model_Yaris</th>\n      <th>Model_Z3</th>\n      <th>Model_Z4</th>\n    </tr>\n  </thead>\n  <tbody>\n    <tr>\n      <th>0</th>\n      <td>4200.0</td>\n      <td>277</td>\n      <td>2.000000</td>\n      <td>1991</td>\n      <td>1</td>\n      <td>0</td>\n      <td>0</td>\n      <td>0</td>\n      <td>0</td>\n      <td>0</td>\n      <td>...</td>\n      <td>0</td>\n      <td>0</td>\n      <td>0</td>\n      <td>0</td>\n      <td>0</td>\n      <td>0</td>\n      <td>0</td>\n      <td>0</td>\n      <td>0</td>\n      <td>0</td>\n    </tr>\n    <tr>\n      <th>1</th>\n      <td>7900.0</td>\n      <td>427</td>\n      <td>2.900000</td>\n      <td>1999</td>\n      <td>0</td>\n      <td>1</td>\n      <td>0</td>\n      <td>0</td>\n      <td>0</td>\n      <td>0</td>\n      <td>...</td>\n      <td>0</td>\n      <td>0</td>\n      <td>0</td>\n      <td>0</td>\n      <td>0</td>\n      <td>0</td>\n      <td>0</td>\n      <td>0</td>\n      <td>0</td>\n      <td>0</td>\n    </tr>\n    <tr>\n      <th>2</th>\n      <td>13300.0</td>\n      <td>358</td>\n      <td>5.000000</td>\n      <td>2003</td>\n      <td>0</td>\n      <td>1</td>\n      <td>0</td>\n      <td>0</td>\n      <td>0</td>\n      <td>0</td>\n      <td>...</td>\n      <td>0</td>\n      <td>0</td>\n      <td>0</td>\n      <td>0</td>\n      <td>0</td>\n      <td>0</td>\n      <td>0</td>\n      <td>0</td>\n      <td>0</td>\n      <td>0</td>\n    </tr>\n    <tr>\n      <th>3</th>\n      <td>23000.0</td>\n      <td>240</td>\n      <td>4.200000</td>\n      <td>2007</td>\n      <td>0</td>\n      <td>0</td>\n      <td>0</td>\n      <td>0</td>\n      <td>0</td>\n      <td>0</td>\n      <td>...</td>\n      <td>0</td>\n      <td>0</td>\n      <td>0</td>\n      <td>0</td>\n      <td>0</td>\n      <td>0</td>\n      <td>0</td>\n      <td>0</td>\n      <td>0</td>\n      <td>0</td>\n    </tr>\n    <tr>\n      <th>4</th>\n      <td>18300.0</td>\n      <td>120</td>\n      <td>2.000000</td>\n      <td>2011</td>\n      <td>0</td>\n      <td>0</td>\n      <td>0</td>\n      <td>0</td>\n      <td>1</td>\n      <td>0</td>\n      <td>...</td>\n      <td>0</td>\n      <td>0</td>\n      <td>0</td>\n      <td>0</td>\n      <td>0</td>\n      <td>0</td>\n      <td>0</td>\n      <td>0</td>\n      <td>0</td>\n      <td>0</td>\n    </tr>\n    <tr>\n      <th>...</th>\n      <td>...</td>\n      <td>...</td>\n      <td>...</td>\n      <td>...</td>\n      <td>...</td>\n      <td>...</td>\n      <td>...</td>\n      <td>...</td>\n      <td>...</td>\n      <td>...</td>\n      <td>...</td>\n      <td>...</td>\n      <td>...</td>\n      <td>...</td>\n      <td>...</td>\n      <td>...</td>\n      <td>...</td>\n      <td>...</td>\n      <td>...</td>\n      <td>...</td>\n      <td>...</td>\n    </tr>\n    <tr>\n      <th>4340</th>\n      <td>125000.0</td>\n      <td>9</td>\n      <td>3.000000</td>\n      <td>2014</td>\n      <td>0</td>\n      <td>1</td>\n      <td>0</td>\n      <td>0</td>\n      <td>0</td>\n      <td>0</td>\n      <td>...</td>\n      <td>0</td>\n      <td>0</td>\n      <td>0</td>\n      <td>0</td>\n      <td>0</td>\n      <td>0</td>\n      <td>0</td>\n      <td>0</td>\n      <td>0</td>\n      <td>0</td>\n    </tr>\n    <tr>\n      <th>4341</th>\n      <td>6500.0</td>\n      <td>1</td>\n      <td>3.500000</td>\n      <td>1999</td>\n      <td>1</td>\n      <td>0</td>\n      <td>0</td>\n      <td>0</td>\n      <td>0</td>\n      <td>0</td>\n      <td>...</td>\n      <td>0</td>\n      <td>0</td>\n      <td>0</td>\n      <td>0</td>\n      <td>0</td>\n      <td>0</td>\n      <td>0</td>\n      <td>0</td>\n      <td>0</td>\n      <td>0</td>\n    </tr>\n    <tr>\n      <th>4342</th>\n      <td>8000.0</td>\n      <td>194</td>\n      <td>2.000000</td>\n      <td>1985</td>\n      <td>1</td>\n      <td>0</td>\n      <td>0</td>\n      <td>0</td>\n      <td>0</td>\n      <td>0</td>\n      <td>...</td>\n      <td>0</td>\n      <td>0</td>\n      <td>0</td>\n      <td>0</td>\n      <td>0</td>\n      <td>0</td>\n      <td>0</td>\n      <td>0</td>\n      <td>0</td>\n      <td>0</td>\n    </tr>\n    <tr>\n      <th>4343</th>\n      <td>14200.0</td>\n      <td>31</td>\n      <td>2.790734</td>\n      <td>2014</td>\n      <td>0</td>\n      <td>0</td>\n      <td>0</td>\n      <td>0</td>\n      <td>1</td>\n      <td>0</td>\n      <td>...</td>\n      <td>0</td>\n      <td>0</td>\n      <td>0</td>\n      <td>0</td>\n      <td>0</td>\n      <td>0</td>\n      <td>0</td>\n      <td>0</td>\n      <td>0</td>\n      <td>0</td>\n    </tr>\n    <tr>\n      <th>4344</th>\n      <td>13500.0</td>\n      <td>124</td>\n      <td>2.000000</td>\n      <td>2013</td>\n      <td>0</td>\n      <td>0</td>\n      <td>0</td>\n      <td>0</td>\n      <td>0</td>\n      <td>1</td>\n      <td>...</td>\n      <td>0</td>\n      <td>0</td>\n      <td>0</td>\n      <td>0</td>\n      <td>0</td>\n      <td>0</td>\n      <td>0</td>\n      <td>0</td>\n      <td>0</td>\n      <td>0</td>\n    </tr>\n  </tbody>\n</table>\n<p>4345 rows × 330 columns</p>\n</div>"
     },
     "execution_count": 7,
     "metadata": {},
     "output_type": "execute_result"
    }
   ],
   "source": [
    "df_with_dummies = pd.get_dummies(raw_data_file, drop_first=True)\n",
    "df_with_dummies"
   ],
   "metadata": {
    "collapsed": false,
    "pycharm": {
     "name": "#%%\n"
    }
   }
  },
  {
   "cell_type": "markdown",
   "source": [
    "### 5. Data Formatting and Data Normalization: Summarize the types of variables by checking\n",
    "the data types (i.e., character, numeric, integer, factor, and logical) of the variables in the\n",
    "data set. If variables are not in the correct data type, apply proper type conversions."
   ],
   "metadata": {
    "collapsed": false,
    "pycharm": {
     "name": "#%% md\n"
    }
   }
  },
  {
   "cell_type": "code",
   "execution_count": 8,
   "outputs": [
    {
     "data": {
      "text/plain": "array([[-6.07056440e-01,  1.09526670e+00, -1.58857796e-01, ...,\n        -5.68551652e-02, -1.51724282e-02, -3.39422117e-02],\n       [-4.59468151e-01,  2.51446288e+00,  2.19514002e-02, ...,\n        -5.68551652e-02, -1.51724282e-02, -3.39422117e-02],\n       [-2.44069026e-01,  1.86163264e+00,  4.43839525e-01, ...,\n        -5.68551652e-02, -1.51724282e-02, -3.39422117e-02],\n       ...,\n       [-4.55479278e-01,  3.09978142e-01, -1.58857796e-01, ...,\n        -5.68551652e-02, -1.51724282e-02, -3.39422117e-02],\n       [-2.08169171e-01, -1.23221505e+00,  8.92171257e-17, ...,\n        -5.68551652e-02, -1.51724282e-02, -3.39422117e-02],\n       [-2.36091280e-01, -3.52313412e-01, -1.58857796e-01, ...,\n        -5.68551652e-02, -1.51724282e-02, -3.39422117e-02]])"
     },
     "execution_count": 8,
     "metadata": {},
     "output_type": "execute_result"
    }
   ],
   "source": [
    "#STANDARDIZATION\n",
    "standard_scaler = StandardScaler()\n",
    "scaled = standard_scaler.fit_transform(df_with_dummies)\n",
    "# after standardization\n",
    "scaled"
   ],
   "metadata": {
    "collapsed": false,
    "pycharm": {
     "name": "#%%\n"
    }
   }
  }
 ],
 "metadata": {
  "kernelspec": {
   "display_name": "Python 3",
   "language": "python",
   "name": "python3"
  },
  "language_info": {
   "codemirror_mode": {
    "name": "ipython",
    "version": 2
   },
   "file_extension": ".py",
   "mimetype": "text/x-python",
   "name": "python",
   "nbconvert_exporter": "python",
   "pygments_lexer": "ipython2",
   "version": "2.7.6"
  }
 },
 "nbformat": 4,
 "nbformat_minor": 0
}